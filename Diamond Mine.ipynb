{
 "cells": [
  {
   "cell_type": "code",
   "execution_count": 4,
   "metadata": {},
   "outputs": [],
   "source": [
    "#Defining a function to collect gold\n",
    "def getMaxGold(gold,m,n): \n",
    "  \n",
    "    # Create a table for storing \n",
    "    # intermediate results \n",
    "    # and initialize all cells to 0. \n",
    "    # The first row of \n",
    "    # goldMineTable gives the \n",
    "    # maximum gold that the miner \n",
    "    # can collect when starts that row \n",
    "    \n",
    "    goldTable = [[0 for i in range(n)] for j in range(m)]\n",
    "  \n",
    "    for col in range(n-1, -1, -1): \n",
    "        for row in range(m): \n",
    "            # Gold collected on going to \n",
    "            # the cell on the rigth(->) \n",
    "            if (col == n-1): \n",
    "                right = 0\n",
    "            elif(goldTable[row][col+1] == -1):\n",
    "                right = 0\n",
    "            else:\n",
    "                right = goldTable[row][col+1] \n",
    "            # Gold collected on going to \n",
    "            # the cell to right up (/) \n",
    "            if (row == 0 or col == n-1): \n",
    "                right_up = 0\n",
    "            elif(goldTable[row-1][col+1] == -1):\n",
    "                right_up = 0\n",
    "            else: \n",
    "                right_up = goldTable[row-1][col+1] \n",
    "            # Gold collected on going to \n",
    "            # the cell to right down (\\) \n",
    "            if (row == m-1 or col == n-1): \n",
    "                right_down = 0\n",
    "            elif(goldTable[row+1][col+1] == -1):                \n",
    "                right_down = 0\n",
    "            else: \n",
    "                right_down = goldTable[row+1][col+1]\n",
    "            #gold collected on going left\n",
    "            if (col == 0):\n",
    "                left = 0\n",
    "            elif(goldTable[row][col-1] == -1):\n",
    "                left =0\n",
    "            else:\n",
    "                left = goldTable[row][col-1]\n",
    "            #gold collected in going left up\n",
    "            if (row == 0 or col == 0):\n",
    "                left_up = 0\n",
    "            elif(goldTable[row-1][col-1] == -1):\n",
    "                left_up = 0\n",
    "            else:\n",
    "                left_up = goldTable[row-1][col-1]\n",
    "            #gold collected left down\n",
    "            if (row == m-1 or col == 0):\n",
    "                left_down = 0\n",
    "            elif(goldTable[row+1][col-1] == -1):\n",
    "                left_down = 0\n",
    "            else:\n",
    "                left_down = goldTable[row+1][col-1]\n",
    "            # Max gold collected from taking \n",
    "            # either of the above 3 paths \n",
    "            goldTable[row][col] = gold[row][col] + right + right_up + right_down+ left +left_down +left_up\n",
    "    # The max amount of gold \n",
    "    # collected will be the max \n",
    "    # value in first column of all rows \n",
    "    res = goldTable[0][0] \n",
    "    for i in range(1, m): \n",
    "        res = max(res, goldTable[i][0]) \n",
    "  \n",
    "    return res\n"
   ]
  },
  {
   "cell_type": "code",
   "execution_count": 5,
   "metadata": {},
   "outputs": [
    {
     "data": {
      "text/plain": [
       "5"
      ]
     },
     "execution_count": 5,
     "metadata": {},
     "output_type": "execute_result"
    }
   ],
   "source": [
    "gold = [[0,1,-1], \n",
    "    [1,0,-1], \n",
    "    [1,1,1]] \n",
    "  \n",
    "m = 3\n",
    "n = 3\n",
    "getMaxGold(gold,m,n)\n",
    "#You can collect maximum of 5 gold coins by going from (0,0)-(0,1)-(1,1)-(2,1)-(2,2)-(2,1)-(2,0)-(1,0)-(0,0)"
   ]
  },
  {
   "cell_type": "code",
   "execution_count": null,
   "metadata": {},
   "outputs": [],
   "source": []
  }
 ],
 "metadata": {
  "kernelspec": {
   "display_name": "Python 3",
   "language": "python",
   "name": "python3"
  },
  "language_info": {
   "codemirror_mode": {
    "name": "ipython",
    "version": 3
   },
   "file_extension": ".py",
   "mimetype": "text/x-python",
   "name": "python",
   "nbconvert_exporter": "python",
   "pygments_lexer": "ipython3",
   "version": "3.7.1"
  }
 },
 "nbformat": 4,
 "nbformat_minor": 2
}
